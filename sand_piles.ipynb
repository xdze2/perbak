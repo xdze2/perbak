{
 "cells": [
  {
   "cell_type": "code",
   "execution_count": 1,
   "metadata": {},
   "outputs": [],
   "source": [
    "using Luxor\n",
    "# http://juliagraphics.github.io/Luxor.jl/stable/examples/\n",
    "using ColorSchemes"
   ]
  },
  {
   "cell_type": "code",
   "execution_count": 2,
   "metadata": {},
   "outputs": [],
   "source": [
    "using BenchmarkTools"
   ]
  },
  {
   "cell_type": "markdown",
   "metadata": {},
   "source": [
    "## Sand piles"
   ]
  },
  {
   "cell_type": "code",
   "execution_count": 122,
   "metadata": {},
   "outputs": [
    {
     "data": {
      "text/plain": [
       "draw (generic function with 1 method)"
      ]
     },
     "execution_count": 122,
     "metadata": {},
     "output_type": "execute_result"
    }
   ],
   "source": [
    "# ==========\n",
    "#  Graphics\n",
    "# ==========\n",
    "# Colors map functions :\n",
    "function z_scale(zi)\n",
    "    # colors = reverse(ColorDict[\"acw\"][\"Phaedra\"])\n",
    "    # https://randyzwitch.com/NoveltyColors.jl/acw.html\n",
    "    colors = [\"#FFFAD5\", \"#FFFF9D\", \"#BEEB9F\", \"#79BD8F\", \"#00A388\", \"#FF6138\", \"#D90000\"] # EC2E49\n",
    "    color_idx = min(zi + 1, length(colors))\n",
    "    return colors[color_idx]\n",
    "end\n",
    "\n",
    "\n",
    "function scalar_scale(s)\n",
    "    return get(ColorSchemes.thermal, s)\n",
    "end\n",
    "\n",
    "\n",
    "function draw(z; px_size=12, margin=1,\n",
    "                 color_scale=z_scale,\n",
    "                 savepath=\"temp/temporary.png\")\n",
    "    @png begin\n",
    "        n, m = size(z)\n",
    "        w = m*(px_size + margin)\n",
    "        h = n*(px_size + margin)\n",
    "        Drawing(w, h, savepath)\n",
    "        background(\"white\")\n",
    "        for i in CartesianIndices(z)\n",
    "            setcolor(color_scale(z[i]))\n",
    "            corner = (i.I .- 1).*(px_size + margin) \n",
    "            rect(corner[2], corner[1], px_size, px_size, :fill)\n",
    "        end\n",
    "    end\n",
    "end"
   ]
  },
  {
   "cell_type": "code",
   "execution_count": 119,
   "metadata": {},
   "outputs": [
    {
     "name": "stderr",
     "output_type": "stream",
     "text": [
      "WARNING: redefinition of constant voisins. This may fail, cause incorrect answers, or produce other errors.\n"
     ]
    },
    {
     "data": {
      "text/plain": [
       "stabilize! (generic function with 2 methods)"
      ]
     },
     "execution_count": 119,
     "metadata": {},
     "output_type": "execute_result"
    }
   ],
   "source": [
    "# =====================\n",
    "#  Sand Piles Dynamics\n",
    "# =====================\n",
    "\n",
    "const voisins = [CartesianIndex(0, +1),\n",
    "                 CartesianIndex(0, -1),\n",
    "                 CartesianIndex(+1, 0),\n",
    "                 CartesianIndex(-1, 0)];\n",
    "\n",
    "function topple!(z, i)\n",
    "    z[i] -= 4\n",
    "    for v in voisins\n",
    "        j = v + i\n",
    "        if checkbounds(Bool, z, j)\n",
    "            z[j] += 1\n",
    "        end\n",
    "    end\n",
    "end\n",
    "\n",
    "function iterate!(z)\n",
    "    unstable = findall(x -> x > 5, z);\n",
    "    for i = unstable\n",
    "        topple!(z, i)\n",
    "    end\n",
    "    return unstable\n",
    "end\n",
    "\n",
    "function stabilize!(z, animate=false)\n",
    "    \"\"\"iterate until equilibrium\"\"\"\n",
    "    nbr_iteration = 0\n",
    "    while length(iterate!(z)) > 0\n",
    "        nbr_iteration += 1\n",
    "        \n",
    "        if animate\n",
    "            IJulia.clear_output(true)\n",
    "            display(draw(z; px_size=6, margin=1,\n",
    "                    savepath=\"temp/anim_$(lpad(nbr_iteration, 4, '0')).png\"))\n",
    "            sleep(.1)\n",
    "            end\n",
    "    end\n",
    "    return nbr_iteration\n",
    "end"
   ]
  },
  {
   "cell_type": "code",
   "execution_count": 101,
   "metadata": {},
   "outputs": [
    {
     "data": {
      "text/plain": [
       "k_map (generic function with 1 method)"
      ]
     },
     "execution_count": 101,
     "metadata": {},
     "output_type": "execute_result"
    }
   ],
   "source": [
    "# ============\n",
    "#  Statistics\n",
    "# ============\n",
    "\n",
    "function value_distribution(z)\n",
    "    println(\"Distribution of values :\")\n",
    "    for el in sort(unique(z))\n",
    "        println(el, \" → \", count(x->x==el, z)/length(z))\n",
    "    end\n",
    "end\n",
    "\n",
    "function k_map(z::Array{T,2}) where T\n",
    "    \"\"\"taille de l'avalanche pour chaque cellule\"\"\"\n",
    "    k = zeros(Int32, size(z)...)\n",
    "    a = zeros(T, size(z)...)\n",
    "    for i in CartesianIndices(z)\n",
    "        copyto!(a, z)\n",
    "        a[i] += 1\n",
    "        k[i] = stabilize!(a)\n",
    "    end\n",
    "    return k\n",
    "end"
   ]
  },
  {
   "cell_type": "code",
   "execution_count": 107,
   "metadata": {},
   "outputs": [
    {
     "data": {
      "image/png": "[encoded data removed]",
      "text/plain": []
     },
     "metadata": {},
     "output_type": "display_data"
    },
    {
     "name": "stdout",
     "output_type": "stream",
     "text": [
      "Distribution of values :\n",
      "2 → 0.082\n",
      "3 → 0.174\n",
      "4 → 0.304\n",
      "5 → 0.44\n"
     ]
    }
   ],
   "source": [
    "# Random seed\n",
    "z = rand(0x00:0xf0, 25, 40);\n",
    "stabilize!(z, false)\n",
    "display(draw(z; px_size=6, margin=1))\n",
    "value_distribution(z)"
   ]
  },
  {
   "cell_type": "code",
   "execution_count": 81,
   "metadata": {},
   "outputs": [
    {
     "data": {
      "image/png": "[encoded data removed]",
      "text/plain": []
     },
     "metadata": {},
     "output_type": "display_data"
    }
   ],
   "source": [
    "# Uniform pattern\n",
    "z = zeros(UInt8, 20, 20);\n",
    "margin = 1\n",
    "z[margin:end-margin+1, margin:end-margin+1] .= 0xf;\n",
    "display(draw(z; px_size=6, margin=1))"
   ]
  },
  {
   "cell_type": "code",
   "execution_count": 82,
   "metadata": {},
   "outputs": [
    {
     "data": {
      "image/png": "[encoded data removed]",
      "text/plain": []
     },
     "metadata": {},
     "output_type": "display_data"
    },
    {
     "name": "stdout",
     "output_type": "stream",
     "text": [
      "421 steps to reach eq.\n",
      "Distribution of values :\n",
      "2 → 0.08\n",
      "3 → 0.17\n",
      "4 → 0.26\n",
      "5 → 0.49\n"
     ]
    }
   ],
   "source": [
    "a = copy(z)\n",
    "println( stabilize!(a, false), \" steps to reach eq.\" )\n",
    "display(draw(a; px_size=6, margin=1))\n",
    "value_distribution(a)"
   ]
  },
  {
   "cell_type": "code",
   "execution_count": 86,
   "metadata": {},
   "outputs": [
    {
     "name": "stdout",
     "output_type": "stream",
     "text": [
      "24"
     ]
    },
    {
     "data": {
      "image/png": "[encoded data removed]",
      "text/plain": []
     },
     "execution_count": 86,
     "metadata": {},
     "output_type": "execute_result"
    }
   ],
   "source": [
    "k = k_map(a);\n",
    "print(maximum(k))\n",
    "draw(k./maximum(k); px_size=6, margin=0, color_scale=scalar_scale)"
   ]
  },
  {
   "cell_type": "markdown",
   "metadata": {},
   "source": [
    "## One avalanche"
   ]
  },
  {
   "cell_type": "markdown",
   "metadata": {},
   "source": [
    "### Animation"
   ]
  },
  {
   "cell_type": "code",
   "execution_count": 123,
   "metadata": {},
   "outputs": [
    {
     "data": {
      "image/png": "[encoded data removed]",
      "text/plain": []
     },
     "metadata": {},
     "output_type": "display_data"
    },
    {
     "name": "stdout",
     "output_type": "stream",
     "text": [
      "Largest avalanche size is 180\n",
      "starting at (18, 25)\n"
     ]
    }
   ],
   "source": [
    "# Random seed\n",
    "z = rand(0x00:0xf0, 25, 40);\n",
    "stabilize!(z, false)\n",
    "\n",
    "k = k_map(z);\n",
    "println(\"Largest avalanche size is \", maximum(k))\n",
    "println(\"starting at \", argmax(k).I)\n",
    "\n",
    "z[argmax(k)] += 1\n",
    "display(draw(z; px_size=6, margin=1))"
   ]
  },
  {
   "cell_type": "code",
   "execution_count": 124,
   "metadata": {},
   "outputs": [
    {
     "data": {
      "image/png": "[encoded data removed]",
      "text/plain": []
     },
     "metadata": {},
     "output_type": "display_data"
    },
    {
     "data": {
      "text/plain": [
       "180"
      ]
     },
     "execution_count": 124,
     "metadata": {},
     "output_type": "execute_result"
    }
   ],
   "source": [
    "a = copy(z);\n",
    "stabilize!(a, true)"
   ]
  },
  {
   "cell_type": "markdown",
   "metadata": {},
   "source": [
    "Magick :\n",
    "\n",
    "    convert -delay 20 -loop 0 anim*.png avalanche01.gif\n",
    " "
   ]
  },
  {
   "cell_type": "markdown",
   "metadata": {},
   "source": [
    "### Extend of one avalanche"
   ]
  },
  {
   "cell_type": "code",
   "execution_count": 125,
   "metadata": {},
   "outputs": [
    {
     "data": {
      "text/plain": [
       "stabilize_map! (generic function with 2 methods)"
      ]
     },
     "execution_count": 125,
     "metadata": {},
     "output_type": "execute_result"
    }
   ],
   "source": [
    "function stabilize_map!(z, toppled)\n",
    "    \"\"\"\"\"\"\n",
    "    notstable = true\n",
    "    while notstable\n",
    "        have_toppled = iterate!(z)\n",
    "        for i in have_toppled\n",
    "            toppled[i] += 1\n",
    "        end\n",
    "        notstable = length(have_toppled) > 0\n",
    "    end\n",
    "    return toppled\n",
    "end\n",
    "\n",
    "function stabilize_map!(z)\n",
    "    toppled = zeros(Int, size(z)...)\n",
    "    return stabilize_map!(z, toppled)\n",
    "end"
   ]
  },
  {
   "cell_type": "code",
   "execution_count": 153,
   "metadata": {},
   "outputs": [
    {
     "name": "stdout",
     "output_type": "stream",
     "text": [
      "maximum(toppled) = 6\n"
     ]
    },
    {
     "data": {
      "image/png": "[encoded data removed]",
      "text/plain": []
     },
     "execution_count": 153,
     "metadata": {},
     "output_type": "execute_result"
    }
   ],
   "source": [
    "b = copy(z)\n",
    "toppled = stabilize_map!(b)\n",
    "@show maximum(toppled)\n",
    "draw(toppled; px_size=6, margin=1)"
   ]
  },
  {
   "cell_type": "markdown",
   "metadata": {},
   "source": [
    "### draw causality (v0)"
   ]
  },
  {
   "cell_type": "code",
   "execution_count": 154,
   "metadata": {},
   "outputs": [
    {
     "data": {
      "text/plain": [
       "draw_links (generic function with 1 method)"
      ]
     },
     "execution_count": 154,
     "metadata": {},
     "output_type": "execute_result"
    }
   ],
   "source": [
    "function draw_links(z, links; px_size=6, margin=1)\n",
    "    @svg begin\n",
    "        n, m = size(z)\n",
    "        w = m*(px_size + margin)\n",
    "        h = n*(px_size + margin)\n",
    "        Drawing(w, h)\n",
    "        background(\"white\")\n",
    "        setantialias(1)\n",
    "\n",
    "        # colors = reverse(ColorDict[\"acw\"][\"Phaedra\"])\n",
    "        # https://randyzwitch.com/NoveltyColors.jl/acw.html\n",
    "        colors = [\"#FFFAD5\", \"#BEEB9F\", \"#79BD8F\", \"#00A388\", \"#FF6138\", \"#D90000\"] # EC2E49\n",
    "        for i in CartesianIndices(z)\n",
    "            color_idx = z[i] + 1 #%length(colors)+1\n",
    "            if color_idx > length(colors)\n",
    "                color_idx = length(colors)\n",
    "            end\n",
    "            setcolor(colors[color_idx])\n",
    "            corner = (i.I .- 1).*(px_size + margin) \n",
    "            rect(corner[2], corner[1], px_size, px_size, :fill)\n",
    "        end\n",
    "        \n",
    "        center_coords(i) = (reverse(i.I) .- 1).*(px_size + margin) .+ px_size/2\n",
    "        setline(1)\n",
    "        setlinecap(:round)\n",
    "        sethue(\"black\")\n",
    "        for (i, j) in links\n",
    "\n",
    "            \n",
    "            center_i = Point(center_coords(i))\n",
    "            center_j = Point(center_coords(j))\n",
    "            d = (center_j - center_i)*0.5\n",
    "            line(center_i, center_j - d, :stroke)\n",
    "        end\n",
    "    end\n",
    "end"
   ]
  },
  {
   "cell_type": "code",
   "execution_count": 155,
   "metadata": {},
   "outputs": [],
   "source": [
    "# init\n",
    "b = copy(z);\n",
    "\n",
    "links = []\n",
    "have_toppled_2 = iterate!(b)\n",
    "notstable = length(have_toppled_2) > 0\n",
    "\n",
    "# loop\n",
    "while notstable\n",
    "    have_toppled_1 = have_toppled_2\n",
    "    have_toppled_2 = iterate!(b)\n",
    "    \n",
    "    for i in have_toppled_1\n",
    "        for v in voisins\n",
    "            j = i + v\n",
    "            if j in have_toppled_2\n",
    "                push!(links, (i, j))\n",
    "            end\n",
    "        end\n",
    "    end\n",
    "    \n",
    "    notstable = length(have_toppled_2) > 0\n",
    "end"
   ]
  },
  {
   "cell_type": "code",
   "execution_count": 156,
   "metadata": {},
   "outputs": [
    {
     "data": {
      "image/png": "[encoded data removed]",
      "text/plain": []
     },
     "execution_count": 156,
     "metadata": {},
     "output_type": "execute_result"
    }
   ],
   "source": [
    "draw_links(toppled, links)"
   ]
  },
  {
   "cell_type": "code",
   "execution_count": 157,
   "metadata": {},
   "outputs": [],
   "source": [
    "## stats on avalanche size\n",
    "k = k_map(z);\n",
    "k_flat = [(i, k[i]) for i in CartesianIndices(k) if k[i]>2];\n",
    "sort!(k_flat, by=x -> x[2], rev=true);"
   ]
  },
  {
   "cell_type": "markdown",
   "metadata": {},
   "source": [
    "## Sum of all avalanche\n",
    "\n",
    "i.e. risk to topple"
   ]
  },
  {
   "cell_type": "code",
   "execution_count": 444,
   "metadata": {},
   "outputs": [
    {
     "data": {
      "image/png": "[encoded data removed]",
      "text/plain": []
     },
     "execution_count": 444,
     "metadata": {},
     "output_type": "execute_result"
    }
   ],
   "source": [
    "# Random seed\n",
    "z = rand(0x1:0x20, 150, 150);\n",
    "stabilize!(z, false)\n",
    "draw(z; px_size=2, margin=0)"
   ]
  },
  {
   "cell_type": "code",
   "execution_count": 137,
   "metadata": {},
   "outputs": [
    {
     "data": {
      "text/plain": [
       "avalanche_map! (generic function with 1 method)"
      ]
     },
     "execution_count": 137,
     "metadata": {},
     "output_type": "execute_result"
    }
   ],
   "source": [
    "function avalanche_map!(toppled, z)\n",
    "\n",
    "    not_stable = true\n",
    "    while not_stable\n",
    "        have_toppled = iterate!(z)\n",
    "        for i in have_toppled\n",
    "            toppled[i] += 1\n",
    "        end\n",
    "        not_stable = length(have_toppled) > 0\n",
    "    end\n",
    "\n",
    "end"
   ]
  },
  {
   "cell_type": "code",
   "execution_count": 138,
   "metadata": {},
   "outputs": [
    {
     "name": "stdout",
     "output_type": "stream",
     "text": [
      "convert(Int, maximum(toppled)) = 6018\n"
     ]
    }
   ],
   "source": [
    "toppled = zeros(UInt32, size(z)...)\n",
    "b = zeros(UInt8, size(z)...)\n",
    "for i in CartesianIndices(z)\n",
    "    copyto!(b, z);\n",
    "    b[i] += 1\n",
    "    avalanche_map!(toppled, b)\n",
    "end\n",
    "\n",
    "@show convert(Int, maximum(toppled));"
   ]
  },
  {
   "cell_type": "code",
   "execution_count": 141,
   "metadata": {},
   "outputs": [
    {
     "data": {
      "image/png": "[encoded data removed]",
      "text/plain": []
     },
     "execution_count": 141,
     "metadata": {},
     "output_type": "execute_result"
    }
   ],
   "source": [
    "draw(toppled./maximum(toppled); px_size=7, margin=0, color_scale=scalar_scale)"
   ]
  },
  {
   "cell_type": "code",
   "execution_count": 159,
   "metadata": {},
   "outputs": [
    {
     "data": {
      "image/png": "[encoded data removed]",
      "text/plain": []
     },
     "execution_count": 159,
     "metadata": {},
     "output_type": "execute_result"
    }
   ],
   "source": [
    "draw(k./maximum(k); px_size=6, margin=0, color_scale=scalar_scale)"
   ]
  },
  {
   "cell_type": "markdown",
   "metadata": {},
   "source": [
    "## Next\n",
    "\n",
    "- est-ce que retrouve la courbe de l'article ?\n",
    "- est-ce les nouveaux equilibres ont les même props. que le 1er après random_seed ?\n",
    "- dissipative because of edges escaping matter, but what if periodic & non-conservative toppling\n",
    "\n",
    "- link between more realistic topology model & slope ?\n",
    "- faster computation:\n",
    "    - GPU ?\n",
    "    - keep track of modified cell instead of findall: not better\n",
    "    - tile&merge stabilize ?"
   ]
  },
  {
   "cell_type": "code",
   "execution_count": null,
   "metadata": {},
   "outputs": [],
   "source": []
  }
 ],
 "metadata": {
  "kernelspec": {
   "display_name": "Julia 1.5.1",
   "language": "julia",
   "name": "julia-1.5"
  },
  "language_info": {
   "file_extension": ".jl",
   "mimetype": "application/julia",
   "name": "julia",
   "version": "1.5.1"
  }
 },
 "nbformat": 4,
 "nbformat_minor": 4
}
